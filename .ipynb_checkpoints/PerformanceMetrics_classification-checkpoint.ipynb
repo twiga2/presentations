{
 "cells": [
  {
   "cell_type": "markdown",
   "metadata": {
    "slideshow": {
     "slide_type": "slide"
    }
   },
   "source": [
    "# Performance Metrics in Classification Problem \n",
    "\n",
    "#### Dina Machuve\n",
    "\n",
    "18th April, 2020"
   ]
  },
  {
   "cell_type": "markdown",
   "metadata": {
    "slideshow": {
     "slide_type": "slide"
    }
   },
   "source": [
    "#### Outline\n",
    "* [Binary Classifier example](#example)\n",
    "* [Confusion Matrix](#confmat)\n",
    "* [ROC ](#roc)\n",
    "* [AUC](#auc)"
   ]
  },
  {
   "cell_type": "markdown",
   "metadata": {
    "slideshow": {
     "slide_type": "slide"
    }
   },
   "source": [
    "#### Binary Classifier example <a name=\"example\"></a>\n",
    "__Task__: \n",
    "Can we predict a digit `8` from the [MNIST](https://en.wikipedia.org/wiki/MNIST_database) dataset of handwritten digits?\n",
    "\n",
    "* We have a basic \"binary\" classification problem\n",
    "* 1 = the digit is 8 and 0 = the digit is not-8\n",
    "* Dataset of 70,000 images of handwritten digits\n",
    "* Training with a _Stochastic Gradient Descent (SGD)_ classifier\n",
    "\n"
   ]
  },
  {
   "cell_type": "code",
   "execution_count": 1,
   "metadata": {
    "slideshow": {
     "slide_type": "skip"
    }
   },
   "outputs": [],
   "source": [
    "import numpy as np\n",
    "import pandas as pd\n",
    "import matplotlib\n",
    "import matplotlib.pyplot as plt\n",
    "%matplotlib inline"
   ]
  },
  {
   "cell_type": "code",
   "execution_count": 2,
   "metadata": {
    "slideshow": {
     "slide_type": "skip"
    }
   },
   "outputs": [
    {
     "data": {
      "text/plain": [
       "['data',\n",
       " 'target',\n",
       " 'frame',\n",
       " 'feature_names',\n",
       " 'target_names',\n",
       " 'DESCR',\n",
       " 'details',\n",
       " 'categories',\n",
       " 'url']"
      ]
     },
     "execution_count": 2,
     "metadata": {},
     "output_type": "execute_result"
    }
   ],
   "source": [
    "#get the MNIST dataset\n",
    "from sklearn.datasets import fetch_openml\n",
    "mnist = fetch_openml(\"mnist_784\")\n",
    "list(mnist.keys())"
   ]
  },
  {
   "cell_type": "code",
   "execution_count": 3,
   "metadata": {
    "slideshow": {
     "slide_type": "skip"
    }
   },
   "outputs": [],
   "source": [
    "X, y = mnist[\"data\"], mnist[\"target\"]"
   ]
  },
  {
   "cell_type": "code",
   "execution_count": 4,
   "metadata": {
    "slideshow": {
     "slide_type": "skip"
    }
   },
   "outputs": [
    {
     "data": {
      "text/plain": [
       "(70000, 784)"
      ]
     },
     "execution_count": 4,
     "metadata": {},
     "output_type": "execute_result"
    }
   ],
   "source": [
    "X.shape"
   ]
  },
  {
   "cell_type": "code",
   "execution_count": 5,
   "metadata": {
    "slideshow": {
     "slide_type": "skip"
    }
   },
   "outputs": [
    {
     "data": {
      "text/plain": [
       "(70000,)"
      ]
     },
     "execution_count": 5,
     "metadata": {},
     "output_type": "execute_result"
    }
   ],
   "source": [
    "y.shape"
   ]
  },
  {
   "cell_type": "code",
   "execution_count": 6,
   "metadata": {
    "slideshow": {
     "slide_type": "slide"
    }
   },
   "outputs": [
    {
     "data": {
      "image/png": "[encoded data removed]",
      "text/plain": [
       "<Figure size 432x288 with 1 Axes>"
      ]
     },
     "metadata": {
      "needs_background": "light"
     },
     "output_type": "display_data"
    }
   ],
   "source": [
    "#check one digit\n",
    "some_digit = X[39005]\n",
    "some_digit_image = some_digit.reshape(28,28)\n",
    "\n",
    "plt.imshow(some_digit_image, cmap=matplotlib.cm.binary, interpolation=\"nearest\")\n",
    "plt.axis(\"off\")\n",
    "plt.show()"
   ]
  },
  {
   "cell_type": "code",
   "execution_count": 7,
   "metadata": {
    "slideshow": {
     "slide_type": "-"
    }
   },
   "outputs": [
    {
     "data": {
      "text/plain": [
       "'8'"
      ]
     },
     "execution_count": 7,
     "metadata": {},
     "output_type": "execute_result"
    }
   ],
   "source": [
    "#check the label\n",
    "y[39005]"
   ]
  },
  {
   "cell_type": "code",
   "execution_count": 8,
   "metadata": {
    "slideshow": {
     "slide_type": "skip"
    }
   },
   "outputs": [],
   "source": [
    "#Data preprocessing\n",
    "# The '8-detector' is an example of a binary classifier\n",
    "X_train, X_test, y_train, y_test = X[:60000], X[60000:], y[:60000], y[60000:] \n"
   ]
  },
  {
   "cell_type": "code",
   "execution_count": 10,
   "metadata": {
    "slideshow": {
     "slide_type": "skip"
    }
   },
   "outputs": [],
   "source": [
    "#shuffle the training set\n",
    "shuffle_index = np.random.permutation(60000)\n",
    "X_train, y_train = X_train[shuffle_index], y_train[shuffle_index]"
   ]
  },
  {
   "cell_type": "code",
   "execution_count": 18,
   "metadata": {
    "slideshow": {
     "slide_type": "skip"
    }
   },
   "outputs": [
    {
     "data": {
      "text/plain": [
       "SGDClassifier(alpha=0.0001, average=False, class_weight=None,\n",
       "              early_stopping=False, epsilon=0.1, eta0=0.0, fit_intercept=True,\n",
       "              l1_ratio=0.15, learning_rate='optimal', loss='hinge',\n",
       "              max_iter=1000, n_iter_no_change=5, n_jobs=None, penalty='l2',\n",
       "              power_t=0.5, random_state=42, shuffle=True, tol=0.001,\n",
       "              validation_fraction=0.1, verbose=0, warm_start=False)"
      ]
     },
     "execution_count": 18,
     "metadata": {},
     "output_type": "execute_result"
    }
   ],
   "source": [
    "#Training a binary classifier\n",
    "y_train = y_train.astype(np.int8)\n",
    "y_train_8 = (y_train == 8)\n",
    "y_test_8 = (y_test == 8)\n",
    "\n",
    "#using Stocastic Gradient Descent (SGD) classifier\n",
    "from sklearn.linear_model import SGDClassifier\n",
    "sgd_clf = SGDClassifier(random_state= 42)\n",
    "sgd_clf.fit(X_train, y_train_8)"
   ]
  },
  {
   "cell_type": "code",
   "execution_count": 28,
   "metadata": {
    "slideshow": {
     "slide_type": "skip"
    }
   },
   "outputs": [
    {
     "data": {
      "text/plain": [
       "array([ True])"
      ]
     },
     "execution_count": 28,
     "metadata": {},
     "output_type": "execute_result"
    }
   ],
   "source": [
    "#predict/detect images of the number 8\n",
    "sgd_clf.predict([some_digit])\n"
   ]
  },
  {
   "cell_type": "code",
   "execution_count": 30,
   "metadata": {
    "slideshow": {
     "slide_type": "skip"
    }
   },
   "outputs": [],
   "source": [
    "#To compute the confusion matrix\n",
    "#1. we need a set of predictions to be compared to the actual targets\n",
    "from sklearn.model_selection import cross_val_predict\n",
    "y_train_pred = cross_val_predict(sgd_clf, X_train, y_train_8, cv=3)\n"
   ]
  },
  {
   "cell_type": "code",
   "execution_count": 35,
   "metadata": {
    "slideshow": {
     "slide_type": "skip"
    }
   },
   "outputs": [
    {
     "data": {
      "text/plain": [
       "0.4751098096632504"
      ]
     },
     "execution_count": 35,
     "metadata": {},
     "output_type": "execute_result"
    }
   ],
   "source": [
    "4543/(5019+4543)"
   ]
  },
  {
   "cell_type": "code",
   "execution_count": 36,
   "metadata": {
    "slideshow": {
     "slide_type": "skip"
    }
   },
   "outputs": [
    {
     "data": {
      "text/plain": [
       "0.7764484703469492"
      ]
     },
     "execution_count": 36,
     "metadata": {},
     "output_type": "execute_result"
    }
   ],
   "source": [
    "4543/(4543+1308)"
   ]
  },
  {
   "cell_type": "code",
   "execution_count": null,
   "metadata": {
    "slideshow": {
     "slide_type": "skip"
    }
   },
   "outputs": [],
   "source": []
  },
  {
   "cell_type": "markdown",
   "metadata": {
    "slideshow": {
     "slide_type": "slide"
    }
   },
   "source": [
    "#### Confusion Matrix <a name=\"confmat\"></a>\n",
    "Used to evaluate the performance of a classifier using a set of predictions compared to the actual target.\n",
    "\n",
    "$$Confusion \\ matrix = actual \\left\\{\\overbrace{\n",
    "   \\begin{bmatrix} \n",
    "     neg. &  \\overbrace{TN}^{negative} & \\overbrace{FP}^{positive} \\\\ \n",
    "     pos. &           FN & TP \n",
    "   \\end{bmatrix}}^{predicted} \\right.$$\n",
    "* Each __row__ in a confusion matrix represents an __actual class__\n",
    "* Each __column__ represents a __predicted class__\n",
    "* True Positive (TP): The cases in which the model predicted \"yes/positive\", and the truth is also “yes/positive.\"\n",
    "* True Negatives (TN): The cases in which the model predicted \"no/negative\", and the truth is also \"no/negative.\"\n",
    "* False Positives (FP): The cases in which the model predicted \"yes/positive\", and the truth is \"no/negative\".\n",
    "* False Negatives (FN): The cases in which the model predicted \"no/negative\", and the truth is \"yes/positive\".\n",
    " "
   ]
  },
  {
   "cell_type": "code",
   "execution_count": 31,
   "metadata": {
    "slideshow": {
     "slide_type": "slide"
    }
   },
   "outputs": [
    {
     "data": {
      "text/plain": [
       "array([[49130,  5019],\n",
       "       [ 1308,  4543]])"
      ]
     },
     "execution_count": 31,
     "metadata": {},
     "output_type": "execute_result"
    }
   ],
   "source": [
    "#To compute the confusion matrix\n",
    "#1. we need a set of predictions to be compared to the actual targets\n",
    "from sklearn.model_selection import cross_val_predict\n",
    "y_train_pred = cross_val_predict(sgd_clf, X_train, y_train_8, cv=3)\n",
    "\n",
    "from sklearn.metrics import confusion_matrix\n",
    "confusion_matrix(y_train_8, y_train_pred)"
   ]
  },
  {
   "cell_type": "markdown",
   "metadata": {
    "slideshow": {
     "slide_type": "slide"
    }
   },
   "source": [
    "#### Using information from the confusion matrix\n",
    "$confusion \\ matrix = \n",
    "\\begin{bmatrix} \n",
    "    TN & FP \\\\ \n",
    "    FN & TP\n",
    "\\end{bmatrix} \\quad = \\quad \\begin{bmatrix} 49130 & 5019 \\\\ 1308 & 4543 \\end{bmatrix}$\n",
    "\n",
    "* Number of samples: \n",
    "\n",
    "$n = TP + TN + FP + FN \\\\\n",
    "               =  4543 + 49130 + 5019 + 1308 \\\\\n",
    "               =  60000$\n",
    "\n",
    "* __Accuracy__:\n",
    "In general how often is the classifier correct? $\\Rightarrow \\frac{(TP + TN)}{n} \\\\\n",
    "= \\frac{(4543 + 49130)}{60000} = 0.89455$\n",
    "\n",
    "* __Misclassification Rate (Error Rate)__:\n",
    "How often is the model wrong? $\\Rightarrow \\frac{(FP + FN)}{n} \\\\\n",
    "=\\frac{(5019 + 1308)}{60000} = 0.10545$\n"
   ]
  },
  {
   "cell_type": "markdown",
   "metadata": {
    "slideshow": {
     "slide_type": "slide"
    }
   },
   "source": [
    "\n",
    "* __Precision__:\n",
    "When the model predicts \"yes\", how often is it correct? \n",
    "\n",
    "$$\n",
    "\\begin{align*} \n",
    "     \\mathbf{Precision}  =& \\frac{TP}{(TP + FP)} \\\\\n",
    "               =&  \\frac{4543}{(4543 + 5019)} \\\\\n",
    "               =& 0.47511\n",
    "  \\end{align*} \n",
    "$$\n",
    "\n",
    "* __Recall (True Positive Rate)__:\n",
    "How often the model predicts yes, when it's \"actually yes\" \n",
    "\n",
    "$$\n",
    "\\begin{align*} \\mathbf{Recall}  =& \\frac{TP}{(TP + FN)} \\\\\n",
    "               =&  \\frac{4543}{(4543 + 1308)} \\\\\n",
    "               =& 0.77645\n",
    "   \\end{align*} \n",
    "$$"
   ]
  },
  {
   "cell_type": "code",
   "execution_count": 33,
   "metadata": {
    "slideshow": {
     "slide_type": "slide"
    }
   },
   "outputs": [
    {
     "data": {
      "text/plain": [
       "0.4751098096632504"
      ]
     },
     "execution_count": 33,
     "metadata": {},
     "output_type": "execute_result"
    }
   ],
   "source": [
    "#precision\n",
    "from sklearn.metrics import precision_score, recall_score\n",
    "precision_score(y_train_8, y_train_pred)\n"
   ]
  },
  {
   "cell_type": "code",
   "execution_count": 34,
   "metadata": {
    "slideshow": {
     "slide_type": "-"
    }
   },
   "outputs": [
    {
     "data": {
      "text/plain": [
       "0.7764484703469492"
      ]
     },
     "execution_count": 34,
     "metadata": {},
     "output_type": "execute_result"
    }
   ],
   "source": [
    "#recall\n",
    "recall_score(y_train_8, y_train_pred)"
   ]
  },
  {
   "cell_type": "markdown",
   "metadata": {
    "slideshow": {
     "slide_type": "slide"
    }
   },
   "source": [
    "#### Receiver Operating Characteristics (ROC)<a name=\"roc\"></a>\n",
    "ROC is a visual way to inspect the performance of a binary classifier\n",
    "\n",
    "* In a nutshell with a ROC curve we're measuring the \"trade off\" between the rate at which the model correctly predicts something, with the rate at which the model predicts something incorrectly.\n",
    "* As the class assignment threshold increases for the positive class, the false positive rate and true positive rate necessarily increase."
   ]
  },
  {
   "cell_type": "code",
   "execution_count": 40,
   "metadata": {
    "slideshow": {
     "slide_type": "skip"
    }
   },
   "outputs": [],
   "source": [
    "y_scores = cross_val_predict(sgd_clf, X_train, y_train_8, cv=3, method=\"decision_function\")"
   ]
  },
  {
   "cell_type": "code",
   "execution_count": 42,
   "metadata": {
    "slideshow": {
     "slide_type": "skip"
    }
   },
   "outputs": [],
   "source": [
    "from sklearn.metrics import roc_curve\n",
    "fpr, tpr, thresholds = roc_curve(y_train_8, y_scores)"
   ]
  },
  {
   "cell_type": "code",
   "execution_count": 45,
   "metadata": {
    "slideshow": {
     "slide_type": "slide"
    }
   },
   "outputs": [
    {
     "data": {
      "image/png": "[encoded data removed]",
      "text/plain": [
       "<Figure size 432x288 with 1 Axes>"
      ]
     },
     "metadata": {
      "needs_background": "light"
     },
     "output_type": "display_data"
    }
   ],
   "source": [
    "from sklearn.metrics import roc_curve\n",
    "fpr, tpr, thresholds = roc_curve(y_train_8, y_scores)\n",
    "#plot the FPR again the TPR\n",
    "def plot_roc_curve(fpr, tpr, label=None):\n",
    "    plt.plot(fpr, tpr, linewidth=2, label=label)\n",
    "    plt.plot([0,1], [0,1], 'k--')\n",
    "    plt.axis([0,1,0,1])\n",
    "    plt.xlabel(\"False Positive Rate\")\n",
    "    plt.ylabel(\"True Positive Rate\")\n",
    "\n",
    "plot_roc_curve(fpr,tpr)    \n",
    "plt.show()"
   ]
  },
  {
   "cell_type": "markdown",
   "metadata": {
    "slideshow": {
     "slide_type": "slide"
    }
   },
   "source": [
    "#### Area Under the Curve (AUC) <a name=\"auc\"></a>\n",
    "There is one more concept we should know:\n",
    "* Area under the curve or AUC, is the amount of space underneath the ROC curve.\n",
    "* AUC shows how well the TPR and FPR is looking in the aggregate.\n",
    "* The greater the area under the curve, shows the higher quality of the model.\n",
    "* The greater the area under the curve, the higher the ratio of true positives to false positives as the threshold becomes more lenient\n",
    "* $ AUC = 0 \\Rightarrow BAD$\n",
    "* $ AUC = 1 \\Rightarrow GOOD$"
   ]
  },
  {
   "cell_type": "code",
   "execution_count": 46,
   "metadata": {
    "slideshow": {
     "slide_type": "-"
    }
   },
   "outputs": [
    {
     "data": {
      "text/plain": [
       "0.9235163800533808"
      ]
     },
     "execution_count": 46,
     "metadata": {},
     "output_type": "execute_result"
    }
   ],
   "source": [
    "from sklearn.metrics import roc_auc_score\n",
    "roc_auc_score(y_train_8, y_scores)"
   ]
  },
  {
   "cell_type": "markdown",
   "metadata": {
    "slideshow": {
     "slide_type": "slide"
    }
   },
   "source": [
    "#### References\n",
    "1. Lecture 3.1 Linear Regression, [Delta Analytics](http://www.deltanalytics.org/)\n",
    "2. Aurélien Géron (2017), Chapter 3 Classification, [Hands-on Machine Learning with Scikit-Learn and TensorFlow](https://learning.oreilly.com/library/view/hands-on-machine-learning/9781491962282/)"
   ]
  }
 ],
 "metadata": {
  "celltoolbar": "Slideshow",
  "kernelspec": {
   "display_name": "Python 3",
   "language": "python",
   "name": "python3"
  },
  "language_info": {
   "codemirror_mode": {
    "name": "ipython",
    "version": 3
   },
   "file_extension": ".py",
   "mimetype": "text/x-python",
   "name": "python",
   "nbconvert_exporter": "python",
   "pygments_lexer": "ipython3",
   "version": "3.6.9"
  }
 },
 "nbformat": 4,
 "nbformat_minor": 2
}
