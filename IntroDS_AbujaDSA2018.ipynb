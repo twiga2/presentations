{
 "cells": [
  {
   "cell_type": "markdown",
   "metadata": {
    "slideshow": {
     "slide_type": "slide"
    }
   },
   "source": [
    "![DSA log](figs/dsalogo-Abuja.png)\n",
    "\n"
   ]
  },
  {
   "cell_type": "markdown",
   "metadata": {
    "slideshow": {
     "slide_type": "-"
    }
   },
   "source": [
    "# Introduction to Data Science\n",
    "\n",
    "### End to end Data Science\n",
    "## Dina Machuve\n",
    "#### 12th November, 2018"
   ]
  },
  {
   "cell_type": "markdown",
   "metadata": {
    "slideshow": {
     "slide_type": "slide"
    }
   },
   "source": [
    "# What is Data Science?\n",
    "**Neil Lawrence (2017)**\n",
    "\n",
    "We define the field of data science to be the challenge of making sense of\n",
    "the large volumes of data that have now become available through the\n",
    "increase in sensors and the large interconnection of the internet.\n",
    "Phenomena variously known as 'big data' or 'the internet of things'. \n",
    "\n"
   ]
  },
  {
   "cell_type": "markdown",
   "metadata": {
    "slideshow": {
     "slide_type": "subslide"
    }
   },
   "source": [
    "# What is Data Science?\n",
    "Data science differs from traditional statistics in that this data is not\n",
    "necessarily collected with a purpose or experiment in mind. It is collected\n",
    "by happenstance, and we try and extract value from it later. \n",
    "\n",
    "### [What is Machine Learning?](http://inverseprobability.com/2017/07/17/what-is-machine-learning)"
   ]
  },
  {
   "cell_type": "markdown",
   "metadata": {
    "slideshow": {
     "slide_type": "slide"
    }
   },
   "source": [
    "# What is Data Science?\n",
    "\n",
    "![DS_hype](figs/dsTerms.png)\n"
   ]
  },
  {
   "cell_type": "markdown",
   "metadata": {
    "slideshow": {
     "slide_type": "slide"
    }
   },
   "source": [
    "# Why do we do data science?\n",
    "* New features\n",
    "* Optimising features\n",
    "* Dashboard for decision making\n",
    "* Ad-hoc analysis"
   ]
  },
  {
   "cell_type": "markdown",
   "metadata": {
    "slideshow": {
     "slide_type": "slide"
    }
   },
   "source": [
    "# End to end Data Science\n",
    "It means rethinking traditional data science workflows and embracing new principles that deeply involve the people and communities being studied. "
   ]
  },
  {
   "cell_type": "markdown",
   "metadata": {
    "slideshow": {
     "slide_type": "subslide"
    }
   },
   "source": [
    "## End to end Data Science practices\n",
    "This includes [best practices](https://bit.ly/2zg8bji) like:\n",
    "\n",
    "* Involving community members in the selection of study questions\n",
    "* Partnering with communities in the data generation and curation process\n",
    "* Being intentional when formulating models, assumptions — *can we think like engineers rather than scientists?*\n",
    "* Rigorous, controlled experimentation\n",
    "* Transparent communication of results back to the community and stakeholders (e.g. policy makers)"
   ]
  },
  {
   "cell_type": "markdown",
   "metadata": {
    "slideshow": {
     "slide_type": "slide"
    }
   },
   "source": [
    "## Data Science vs AI \n",
    "[Neil Lawrence (2017)](http://inverseprobability.com/2017/07/17/what-is-machine-learning)\n",
    "\n",
    "* The challenge in artificial intelligence is to recreate “intelligent” behaviour. \n",
    "* Data is acquired from humans, and the computer is given the task of reconstructing that data. \n",
    "* Role of machine learning techniques is on emulating the data creation process by combining a model with the data.\n",
    "* The model incorporates assumptions about the data generating process. "
   ]
  },
  {
   "cell_type": "markdown",
   "metadata": {
    "slideshow": {
     "slide_type": "subslide"
    }
   },
   "source": [
    "## Data Science vs Machine Learning\n",
    "* Takes the approach of observing a system in practice and emulating its behavior with mathematics.\n",
    "* One of the design aspects in designing machine learning solutions is where to put the mathematical function. \n",
    "* Obtaining complex behavior in the resulting system can require some imagination in the design process."
   ]
  },
  {
   "cell_type": "markdown",
   "metadata": {
    "slideshow": {
     "slide_type": "slide"
    }
   },
   "source": [
    "## There is a lot of data!\n",
    "\n",
    "![bigdata](figs/bigData.png)"
   ]
  },
  {
   "cell_type": "markdown",
   "metadata": {
    "slideshow": {
     "slide_type": "slide"
    }
   },
   "source": [
    "## Data Science Information Flow \n",
    "![ML](figs/ds-info-flow.png)\n",
    "* Large amounts of data and high interconnection bandwidth \n",
    "* Much of our information about the world around us received through computers"
   ]
  },
  {
   "cell_type": "markdown",
   "metadata": {
    "slideshow": {
     "slide_type": "slide"
    }
   },
   "source": [
    "![knowledgegap](figs/knowgap.png)\n"
   ]
  },
  {
   "cell_type": "markdown",
   "metadata": {
    "slideshow": {
     "slide_type": "slide"
    }
   },
   "source": [
    "# DATA SAVES LIVES\n",
    "\n",
    "<img src=\"figs/ebola_view.jpeg\" style=\"height:600px\" width=\"500px\"/>"
   ]
  },
  {
   "cell_type": "markdown",
   "metadata": {
    "slideshow": {
     "slide_type": "slide"
    }
   },
   "source": [
    "## Computer Modelers vs Ebola \n",
    "[David Brown, 2017](https://spectrum.ieee.org/computing/software/how-computer-modelers-took-on-the-ebola-outbreak)\n",
    "\n",
    "### Goal: Predict the course of the West African Ebola outbreak\n",
    "* The project sought to represent, through mathematical equations, the evolution of a deadly epidemic.\n",
    "* Ideally, models should be able to predict: how quickly a disease will spread; who is most at risk and where the hot spots will be.\n",
    "* Findings enable public health authorities to take steps that diminish or shorten the epidemic.\n"
   ]
  },
  {
   "cell_type": "markdown",
   "metadata": {
    "slideshow": {
     "slide_type": "slide"
    }
   },
   "source": [
    "### To determine optimal locations for six Ebola treatment centers in Liberia\n",
    "* To minimize the distance an infected person anywhere in the six-county area would have to travel for treatment.\n",
    "* Dataset: population, household size, daily activities, travel patterns, the condition and the existence of roads\n",
    "* Challenge on the dataset: missing, old, or unreliable\n",
    "* the distribution of the six counties' populations estimates from LandScan and WorldPop\n"
   ]
  },
  {
   "cell_type": "markdown",
   "metadata": {
    "slideshow": {
     "slide_type": "slide"
    }
   },
   "source": [
    "## 'Go big, go quick' response\n",
    "![model](figs/cases.jpeg)\n",
    "\n"
   ]
  },
  {
   "cell_type": "markdown",
   "metadata": {
    "slideshow": {
     "slide_type": "subslide"
    }
   },
   "source": [
    "## Learning from Lofa\n",
    "![Lofa-Liberia](figs/liberia.jpeg)\n",
    "* Many Liberian counties reported alarming numbers of new cases in late August and September 2014\n",
    "* But in Lofa county, the numbers were dropping.\n",
    "* Almost nobody noticed."
   ]
  },
  {
   "cell_type": "markdown",
   "metadata": {
    "slideshow": {
     "slide_type": "subslide"
    }
   },
   "source": [
    "### Worst-case Scenarios\n",
    "* Even inaccurate forecasts helped to quantify interventions: \n",
    "    - singly or in combination\n",
    "    - immediate or delayed\n",
    "    - could change an epidemic's trajectory\n",
    "* They helped decision makers establish priorities\n",
    "* They helped to inspire and inform the strong international response that may at last be slowing the epidemic"
   ]
  },
  {
   "cell_type": "markdown",
   "metadata": {
    "slideshow": {
     "slide_type": "slide"
    }
   },
   "source": [
    "## Data Science is a process\n",
    "\n",
    "* Formulating a quantitative question that can be answered with data,\n",
    "* Collecting and cleaning the data, \n",
    "* Analyzing the data and\n",
    "* Communicating the answer to the question to a relevant audience.\n",
    "\n",
    "In a nutshell:\n",
    "* **Explore**: identify patterns\n",
    "* **Predict**: make informed guesses\n",
    "* **Infer**:  quantify what you know"
   ]
  },
  {
   "cell_type": "markdown",
   "metadata": {
    "slideshow": {
     "slide_type": "slide"
    }
   },
   "source": [
    "## Data\n",
    "\n",
    "* What is it?\n",
    "* Where can we find it?\n",
    "* How can we explore it?\n",
    "\n",
    "## Science\n",
    "\n",
    "* What does it mean to learn from data?\n",
    "* How do we know when we are right or wrong?\n",
    "* The keyword in **\"Data Science\"** is not Data, it is **Science** "
   ]
  },
  {
   "cell_type": "markdown",
   "metadata": {
    "slideshow": {
     "slide_type": "slide"
    }
   },
   "source": [
    "## Skills of Data Scientists\n",
    "[Data Scientist vs Data Engineer](http://bit.ly/1XT5nz2)\n",
    "![skills](figs/dsDEng.png)"
   ]
  },
  {
   "cell_type": "markdown",
   "metadata": {
    "slideshow": {
     "slide_type": "slide"
    }
   },
   "source": [
    "## Statistics\n",
    "**Statistics** refers to the mathematics and techniques with which we understand data. It is a discpline of analyzing data. Statistics intersects heavily with data science, machine learning and of course traditional statistical analysis.\n",
    "\n"
   ]
  },
  {
   "cell_type": "markdown",
   "metadata": {
    "slideshow": {
     "slide_type": "subslide"
    }
   },
   "source": [
    "## Statistics\n",
    "Key activities that define the field:\n",
    "* Descriptive statistics (EDA, quantification, summarization, clustering)\n",
    "* Inference (estimation, sampling, variability, defining populations) \n",
    "* Prediction (machine learning)\n",
    "* Experimental Design (the process of designing experiments)"
   ]
  },
  {
   "cell_type": "markdown",
   "metadata": {
    "slideshow": {
     "slide_type": "slide"
    }
   },
   "source": [
    "## Descriptive Statistics Example\n",
    "### Data from a cabbage field trial - Head Weight \n",
    "\n",
    "Min. |1st Qu. | Median |   Mean |3rd Qu. |   Max.|\n",
    "--------|--------|-------|---------|-------|--------|\n",
    "  1.000 |  1.875 |  2.550 |  2.593 |  3.125 |  4.300|\n",
    "    \n",
    "  "
   ]
  },
  {
   "cell_type": "markdown",
   "metadata": {
    "slideshow": {
     "slide_type": "subslide"
    }
   },
   "source": [
    "### A cabbage field trial - Head Weight\n",
    "![histboxHeadWt](figs/headWtSummary.png)"
   ]
  },
  {
   "cell_type": "markdown",
   "metadata": {
    "slideshow": {
     "slide_type": "slide"
    }
   },
   "source": [
    "### Descriptive Statistics Example\n",
    "#### Data from a cabbage field trial - Vitamin C content variable\n",
    "\n",
    "Min. |1st Qu. | Median |   Mean |3rd Qu. |   Max.|\n",
    "--------|--------|-------|---------|-------|--------|\n",
    " 41.00 |  50.75 |  56.00 |  57.95 |  66.25 |  84.00|\n",
    " \n",
    " "
   ]
  },
  {
   "cell_type": "markdown",
   "metadata": {
    "slideshow": {
     "slide_type": "subslide"
    }
   },
   "source": [
    "#### A cabbage field trial - Vitamin C content \n",
    "![histboxVitC](figs/vitCsummary.png)"
   ]
  },
  {
   "cell_type": "markdown",
   "metadata": {
    "slideshow": {
     "slide_type": "slide"
    }
   },
   "source": [
    "# What is Machine Learning?\n",
    "[Neil Lawrence, 2017](http://inverseprobability.com/2017/07/17/what-is-machine-learning)\n",
    "\n",
    "* The principle technology underpinning the recent advances in Artificial Intelligence. \n",
    "* The principal technology behind two emerging domains: Data Science and Artificial Intelligence. \n",
    "* The rise of machine learning is coming about through the availability of data and computation, \n",
    "* But machine learning methodologies are fundamentally dependent on models. \n",
    "\n"
   ]
  },
  {
   "cell_type": "markdown",
   "metadata": {
    "slideshow": {
     "slide_type": "subslide"
    }
   },
   "source": [
    "## What is Machine Learning?\n",
    "$$ data + model  \\xrightarrow{\\text{compute}}  prediction $$\n",
    "\n",
    "* data: observations, could be actively or passively acquired (meta-data).\n",
    "* model: assumptions, based on previous experience (other data! transfer learning etc).\n",
    "* prediction: an action to be taken or a categorization or a quality score."
   ]
  },
  {
   "cell_type": "markdown",
   "metadata": {
    "slideshow": {
     "slide_type": "slide"
    }
   },
   "source": [
    "## Machine Learning Approaches\n",
    "#### 1. Supervised Learning\n",
    "* Learn a model from a given set of input-output pairs, in order to predict the output of new inputs.\n",
    "* Further grouped into **Regression** and **classification** problems.\n",
    "\n",
    "#### 2. Unsupervised Learning\n",
    "* Discover patterns and learn the structure of unlabelled data.\n",
    "* Example **Distribution modeling** and **Clustering**.\n",
    "\n"
   ]
  },
  {
   "cell_type": "markdown",
   "metadata": {
    "slideshow": {
     "slide_type": "subslide"
    }
   },
   "source": [
    "#### 3. Reinforcement Learning\n",
    "* Learn what actions to take in a given situation, based on rewards and penalties\n",
    "* Example consider teaching a dog a new trick: you cannot tell it what to do, but you can reward/punish it."
   ]
  },
  {
   "cell_type": "markdown",
   "metadata": {
    "slideshow": {
     "slide_type": "slide"
    }
   },
   "source": [
    "### Machine Learning vs Traditional Statistical Analyses\n",
    "\n",
    "Machine learning |Traditional statistical analyses\n",
    "------------------|-------------------------------------\n",
    "Emphasize predictions| Emphasizes superpopulation inference\n",
    "Evaluates results via prediction performance| Focuses on a-priori hypotheses\n",
    "Concern for overfitting but not model complexity per se|Simpler models preferred over complex ones (parsimony)\n",
    "Emphasis on performance| Emphasis on parameter interpretability\n",
    "Generalizability is obtained through performance on novel datasets| Statistical modeling or sampling assumptions\n",
    "Concern over performance and robustness|Concern over assumptions and robustness\n",
    "\n",
    "\n",
    "\n",
    "\n",
    "\n",
    "\n",
    "\n"
   ]
  },
  {
   "cell_type": "markdown",
   "metadata": {
    "slideshow": {
     "slide_type": "slide"
    }
   },
   "source": [
    "### Example of Prediction\n",
    "* The Olympic gold medalist in the marathons pace is predicted using a regression fit. \n",
    "* In this case the mathematical function is directly predicting the pace of the winner as a function of the year of the Olympics.\n",
    "![olympic](figs/olympic_loo000_LM_polynomial_num_basis004.png)"
   ]
  },
  {
   "cell_type": "markdown",
   "metadata": {
    "slideshow": {
     "slide_type": "slide"
    }
   },
   "source": [
    "### Trade-offs on Machine Learning\n",
    "[Model Selection](https://oreil.ly/2dFGmIG)\n",
    "![tradeoff](figs/best-ml-method.jpg)"
   ]
  },
  {
   "cell_type": "markdown",
   "metadata": {
    "slideshow": {
     "slide_type": "slide"
    }
   },
   "source": [
    "### Data Science Pipeline (end to end)\n",
    "![Pipeline](figs/pipeline.png)"
   ]
  },
  {
   "cell_type": "markdown",
   "metadata": {
    "slideshow": {
     "slide_type": "slide"
    }
   },
   "source": [
    "### End-to-end predictive analytics approach\n",
    "**STEP 1**: Define the goal\n",
    "\n",
    "**STEP 2**: Data understanding and preparation\n",
    "   * Importing, cleaning, manipulating and\n",
    "   * Visualizing your data\n",
    "\n",
    "**STEP 3**: Building your machine learning model\n",
    "   * Feature selection\n",
    "   * Model training\n",
    "   * Model validation\n",
    "\n",
    "**STEP 4**: Model deployment"
   ]
  },
  {
   "cell_type": "markdown",
   "metadata": {
    "slideshow": {
     "slide_type": "slide"
    }
   },
   "source": [
    "### Data Science Products Requisites\n",
    "1. **Robust**: the testing error has to be consistent with the training error, or the performance is stable after adding some noise to the dataset.\n",
    "2. **Reproducible**: the only way to confirm scientific findings are accurate and not the artifact of a single experiment or analysis"
   ]
  },
  {
   "cell_type": "markdown",
   "metadata": {
    "slideshow": {
     "slide_type": "slide"
    }
   },
   "source": [
    "## Recommendations to achieve Robustness\n",
    "1. Good experimental design\n",
    "2. Write code as cleverly as possible: simple, clear code makes debugging easier.\n",
    "3. Automate tasks, it decreases trivial mistakes by humans.\n",
    "4. Make assertions in code and in your methods\n",
    "5. Test code\n",
    "6. Use existing libraries whenever possible\n",
    "7. Let data prove that it's high quality, e.g. using EDA\n",
    "8. Treat data as Read-Only\n",
    "9. Develop frequently used scripts into tools\n",
    "\n"
   ]
  },
  {
   "cell_type": "markdown",
   "metadata": {
    "slideshow": {
     "slide_type": "slide"
    }
   },
   "source": [
    "## Recommendations for Reproducible Projects\n",
    "1. Release your code and data\n",
    "2. Document everything\n",
    "3. Make figures and statistics the results of scripts\n",
    "4. Use code as documentation"
   ]
  },
  {
   "cell_type": "markdown",
   "metadata": {
    "slideshow": {
     "slide_type": "slide"
    }
   },
   "source": [
    "## Best Practices\n",
    "[Damon Civin (2018)](https://bit.ly/2PtERjw)\n",
    "1. Solve the right problem\n",
    "2. Fail better everyday\n",
    "3. Data quality matters\n",
    "4. Simplicity is your friend\n",
    "5. Debugging makes you a wizard\n",
    "6. Fairness and privacy are not dirty words"
   ]
  },
  {
   "cell_type": "markdown",
   "metadata": {
    "slideshow": {
     "slide_type": "slide"
    }
   },
   "source": [
    "### References\n",
    "C. M. Bishop. *Pattern Recognition and Machine Learning*. Springer-Verlag, 2006.\n",
    "\n",
    "Neil Lawrence (2017), [What is Machine Learning?](http://inverseprobability.com/2017/07/17/what-is-machine-learning)\n",
    "\n",
    "Vince Buffalo, *Bioinformatics Data Skills*, O'Reilly Media, Inc., 2015.\n",
    "\n"
   ]
  }
 ],
 "metadata": {
  "celltoolbar": "Slideshow",
  "kernelspec": {
   "display_name": "Python 3",
   "language": "python",
   "name": "python3"
  },
  "language_info": {
   "codemirror_mode": {
    "name": "ipython",
    "version": 3
   },
   "file_extension": ".py",
   "mimetype": "text/x-python",
   "name": "python",
   "nbconvert_exporter": "python",
   "pygments_lexer": "ipython3",
   "version": "3.6.4"
  },
  "rise": {
   "theme": "sky"
  },
  "widgets": {
   "state": {},
   "version": "1.1.2"
  }
 },
 "nbformat": 4,
 "nbformat_minor": 2
}
