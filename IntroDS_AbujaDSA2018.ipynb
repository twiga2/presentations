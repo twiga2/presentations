{
 "cells": [
  {
   "cell_type": "markdown",
   "metadata": {
    "slideshow": {
     "slide_type": "slide"
    }
   },
   "source": [
    "![DSA log](figs/dsalogo-Abuja.png)\n",
    "\n"
   ]
  },
  {
   "cell_type": "markdown",
   "metadata": {},
   "source": [
    "# Introduction to Data Science\n",
    "\n",
    "### End to end Data Science\n",
    "#### Dina Machuve\n",
    "#### 12th November, 2018"
   ]
  },
  {
   "cell_type": "markdown",
   "metadata": {
    "slideshow": {
     "slide_type": "slide"
    }
   },
   "source": [
    "# What is Data Science?\n",
    "We define the field of data science to be the challenge of making sense of\n",
    "the large volumes of data that have now become available through the\n",
    "increase in sensors and the large interconnection of the internet.\n",
    "Phenomena variously known as 'big data' or 'the internet of things'.\n",
    "\n",
    "Data science differs from traditional statistics in that this data is not\n",
    "necessarily collected with a purpose or experiment in mind. It is collected\n",
    "by happenstance, and we try and extract value from it later. **Neil Lawrence (2017)**\n",
    "\n",
    "### [What is Machine Learning?](http://inverseprobability.com/2017/07/17/what-is-machine-learning)"
   ]
  },
  {
   "cell_type": "markdown",
   "metadata": {
    "slideshow": {
     "slide_type": "slide"
    }
   },
   "source": [
    "# What is Data Science?\n",
    "\n",
    "![DS_hype](figs/dsTerms.png)\n"
   ]
  },
  {
   "cell_type": "markdown",
   "metadata": {
    "slideshow": {
     "slide_type": "slide"
    }
   },
   "source": [
    "## Google Trends\n",
    "![DSTrend](figs/dsTrends.png)"
   ]
  },
  {
   "cell_type": "markdown",
   "metadata": {
    "slideshow": {
     "slide_type": "slide"
    }
   },
   "source": [
    "## There is a lot of data!\n",
    "\n",
    "![bigdata](figs/bigData.png)"
   ]
  },
  {
   "cell_type": "markdown",
   "metadata": {
    "slideshow": {
     "slide_type": "slide"
    }
   },
   "source": [
    "![knowledgegap](figs/knowgap.png)\n"
   ]
  },
  {
   "cell_type": "markdown",
   "metadata": {
    "slideshow": {
     "slide_type": "slide"
    }
   },
   "source": [
    "# DATA SAVES LIVES\n",
    "\n",
    "<img src=\"figs/ebola_view.jpeg\" style=\"height:600px\" width=\"500px\"/>"
   ]
  },
  {
   "cell_type": "markdown",
   "metadata": {
    "slideshow": {
     "slide_type": "slide"
    }
   },
   "source": [
    "## [Computer Modelers vs Ebola](https://spectrum.ieee.org/computing/software/how-computer-modelers-took-on-the-ebola-outbreak)\n",
    "\n",
    "### Goal: Predict the course of the West African Ebola outbreak\n",
    "* The project sought to represent, through mathematical equations, the evolution of a deadly epidemic.\n",
    "* Ideally, models should be able to predict:\n",
    "    * how quickly a disease will spread\n",
    "    * who is most at risk\n",
    "    * where the hot spots will be\n",
    " \n",
    "* Findings enable public health authorities to take steps that diminish or shorten the epidemic.\n"
   ]
  },
  {
   "cell_type": "markdown",
   "metadata": {
    "slideshow": {
     "slide_type": "slide"
    }
   },
   "source": [
    "### To determine optimal locations for six Ebola treatment centers in Liberia\n",
    "* To minimize the distance an infected person anywhere in the six-county area would have to travel for treatment.\n",
    "* Dataset: \n",
    "    * population, \n",
    "    * household size, \n",
    "    * daily activities, \n",
    "    * travel patterns, the condition and the existence of roads\n",
    "* Challenge on the dataset: missing, old, or unreliable\n",
    "* the distribution of the six counties' populations estimates from LandScan and WorldPop\n"
   ]
  },
  {
   "cell_type": "markdown",
   "metadata": {
    "slideshow": {
     "slide_type": "slide"
    }
   },
   "source": [
    "## Data Science is a process\n",
    "\n",
    "1. Formulating a quantitative question that can be answered with data,\n",
    "2. Collecting and cleaning the data, \n",
    "3. Analyzing the data and\n",
    "4. Communicating the answer to the question to a relevant audience.\n",
    "\n",
    "In a nutshell:\n",
    "* **Explore**: identify patterns\n",
    "* **Predict**: make informed guesses\n",
    "* **Infer**:  quantify what you know"
   ]
  },
  {
   "cell_type": "markdown",
   "metadata": {
    "slideshow": {
     "slide_type": "slide"
    }
   },
   "source": [
    "## Data\n",
    "\n",
    "* What is it?\n",
    "* Where can we find it?\n",
    "* How can we explore it?\n",
    "\n",
    "## Science\n",
    "\n",
    "* What does it mean to learn from data?\n",
    "* How do we know when we are right or wrong?\n",
    "* The keyword in **\"Data Science\"** is not Data, it is **Science** "
   ]
  },
  {
   "cell_type": "markdown",
   "metadata": {
    "slideshow": {
     "slide_type": "slide"
    }
   },
   "source": [
    "## Principles \n",
    "1. Data Science is a process\n",
    "2. Machine Learning is optimization of loss functions\n",
    "3. Machine Learning must generalize to unseen data\n",
    "4. Evaluate data science in its operational context\n",
    "5. Similar entities can have similar unseen attributes\n",
    "6. Correlation, not cauasation"
   ]
  },
  {
   "cell_type": "markdown",
   "metadata": {
    "slideshow": {
     "slide_type": "slide"
    }
   },
   "source": [
    "## Popular practical tools\n",
    "* Exploratory analysis of high dimensional tabular data: tableau (web only, not open source)\n",
    "* Classification and regression on tabular data: scikitlearn\n",
    "* Non-linear regression on large tabular data: xgboost\n",
    "* Deep-learning on sensory data (images, audio): keras, tensorflow"
   ]
  },
  {
   "cell_type": "markdown",
   "metadata": {
    "slideshow": {
     "slide_type": "slide"
    }
   },
   "source": [
    "## Skills of Data Scientists\n",
    "[Data Scientist vs Data Engineer](http://bit.ly/1XT5nz2)\n",
    "![skills](figs/dsde.jpeg)"
   ]
  },
  {
   "cell_type": "markdown",
   "metadata": {
    "slideshow": {
     "slide_type": "slide"
    }
   },
   "source": [
    "## Data Science Pipeline (end to end)\n"
   ]
  },
  {
   "cell_type": "markdown",
   "metadata": {
    "slideshow": {
     "slide_type": "slide"
    }
   },
   "source": [
    "## "
   ]
  },
  {
   "cell_type": "code",
   "execution_count": null,
   "metadata": {},
   "outputs": [],
   "source": []
  },
  {
   "cell_type": "code",
   "execution_count": null,
   "metadata": {},
   "outputs": [],
   "source": []
  },
  {
   "cell_type": "code",
   "execution_count": null,
   "metadata": {},
   "outputs": [],
   "source": []
  },
  {
   "cell_type": "code",
   "execution_count": null,
   "metadata": {},
   "outputs": [],
   "source": []
  }
 ],
 "metadata": {
  "celltoolbar": "Slideshow",
  "kernelspec": {
   "display_name": "Python 3",
   "language": "python",
   "name": "python3"
  },
  "language_info": {
   "codemirror_mode": {
    "name": "ipython",
    "version": 3
   },
   "file_extension": ".py",
   "mimetype": "text/x-python",
   "name": "python",
   "nbconvert_exporter": "python",
   "pygments_lexer": "ipython3",
   "version": "3.6.4"
  },
  "rise": {
   "theme": "sky"
  },
  "widgets": {
   "state": {},
   "version": "1.1.2"
  }
 },
 "nbformat": 4,
 "nbformat_minor": 2
}
